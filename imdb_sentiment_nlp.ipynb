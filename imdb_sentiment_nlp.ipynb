{
  "cells": [
    {
      "cell_type": "markdown",
      "metadata": {
        "id": "view-in-github",
        "colab_type": "text"
      },
      "source": [
        "<a href=\"https://colab.research.google.com/github/MHDoh/imdb_sentiment_nlp/blob/main/imdb_sentiment_nlp.ipynb\" target=\"_parent\"><img src=\"https://colab.research.google.com/assets/colab-badge.svg\" alt=\"Open In Colab\"/></a>"
      ]
    },
    {
      "cell_type": "code",
      "source": [
        "# Install the Kaggle package\n",
        "!pip install kaggle\n",
        "!mkdir -p ~/.kaggle\n",
        "!cp kaggle.json ~/.kaggle/\n",
        "!chmod 600 ~/.kaggle/kaggle.json"
      ],
      "metadata": {
        "colab": {
          "base_uri": "https://localhost:8080/"
        },
        "id": "wPtvpC9APcQO",
        "outputId": "e3daa41f-9f8e-4d61-b224-05f31a710643"
      },
      "execution_count": null,
      "outputs": [
        {
          "output_type": "stream",
          "name": "stdout",
          "text": [
            "Requirement already satisfied: kaggle in /usr/local/lib/python3.10/dist-packages (1.6.17)\n",
            "Requirement already satisfied: six>=1.10 in /usr/local/lib/python3.10/dist-packages (from kaggle) (1.16.0)\n",
            "Requirement already satisfied: certifi>=2023.7.22 in /usr/local/lib/python3.10/dist-packages (from kaggle) (2024.8.30)\n",
            "Requirement already satisfied: python-dateutil in /usr/local/lib/python3.10/dist-packages (from kaggle) (2.8.2)\n",
            "Requirement already satisfied: requests in /usr/local/lib/python3.10/dist-packages (from kaggle) (2.32.3)\n",
            "Requirement already satisfied: tqdm in /usr/local/lib/python3.10/dist-packages (from kaggle) (4.66.6)\n",
            "Requirement already satisfied: python-slugify in /usr/local/lib/python3.10/dist-packages (from kaggle) (8.0.4)\n",
            "Requirement already satisfied: urllib3 in /usr/local/lib/python3.10/dist-packages (from kaggle) (2.2.3)\n",
            "Requirement already satisfied: bleach in /usr/local/lib/python3.10/dist-packages (from kaggle) (6.2.0)\n",
            "Requirement already satisfied: webencodings in /usr/local/lib/python3.10/dist-packages (from bleach->kaggle) (0.5.1)\n",
            "Requirement already satisfied: text-unidecode>=1.3 in /usr/local/lib/python3.10/dist-packages (from python-slugify->kaggle) (1.3)\n",
            "Requirement already satisfied: charset-normalizer<4,>=2 in /usr/local/lib/python3.10/dist-packages (from requests->kaggle) (3.4.0)\n",
            "Requirement already satisfied: idna<4,>=2.5 in /usr/local/lib/python3.10/dist-packages (from requests->kaggle) (3.10)\n",
            "cp: cannot stat 'kaggle.json': No such file or directory\n",
            "chmod: cannot access '/root/.kaggle/kaggle.json': No such file or directory\n"
          ]
        }
      ]
    },
    {
      "cell_type": "code",
      "execution_count": null,
      "metadata": {
        "id": "UO0MBsJeJSP-"
      },
      "outputs": [],
      "source": [
        "import numpy as np\n",
        "import pandas as pd\n",
        "import tensorflow as tf\n",
        "from tensorflow import keras\n",
        "from tensorflow.keras.preprocessing.text import Tokenizer\n",
        "from tensorflow.keras.preprocessing.sequence import pad_sequences\n",
        "from sklearn.model_selection import train_test_split"
      ]
    },
    {
      "cell_type": "code",
      "execution_count": null,
      "metadata": {
        "colab": {
          "base_uri": "https://localhost:8080/"
        },
        "id": "VQxuC65cJXEL",
        "outputId": "e561a184-dbdd-407d-c3cd-fe7fbc4ed522"
      },
      "outputs": [
        {
          "output_type": "stream",
          "name": "stdout",
          "text": [
            "Dataset URL: https://www.kaggle.com/datasets/lakshmi25npathi/imdb-dataset-of-50k-movie-reviews\n",
            "License(s): other\n",
            "imdb-dataset-of-50k-movie-reviews.zip: Skipping, found more recently modified local copy (use --force to force download)\n",
            "Archive:  imdb-dataset-of-50k-movie-reviews.zip\n",
            "replace IMDB Dataset.csv? [y]es, [n]o, [A]ll, [N]one, [r]ename: n\n",
            "                                              review sentiment\n",
            "0  One of the other reviewers has mentioned that ...  positive\n",
            "1  A wonderful little production. <br /><br />The...  positive\n",
            "2  I thought this was a wonderful way to spend ti...  positive\n",
            "3  Basically there's a family where a little boy ...  negative\n",
            "4  Petter Mattei's \"Love in the Time of Money\" is...  positive\n"
          ]
        }
      ],
      "source": [
        "dataset_identifier = 'lakshmi25npathi/imdb-dataset-of-50k-movie-reviews'\n",
        "\n",
        "!kaggle datasets download -d {dataset_identifier}\n",
        "!unzip imdb-dataset-of-50k-movie-reviews.zip\n",
        "data = pd.read_csv('IMDB Dataset.csv')\n",
        "\n",
        "print(data.head())\n"
      ]
    },
    {
      "cell_type": "code",
      "execution_count": null,
      "metadata": {
        "id": "K5_QWPACJXA4"
      },
      "outputs": [],
      "source": [
        "data['sentiment'] = data['sentiment'].map({'positive': 1, 'negative': 0})\n"
      ]
    },
    {
      "cell_type": "code",
      "execution_count": null,
      "metadata": {
        "id": "YHnSQFkyJW9_"
      },
      "outputs": [],
      "source": [
        "# Separate features and labels\n",
        "reviews = data['review'].values\n",
        "labels = data['sentiment'].values\n",
        "\n",
        "# Split into training (70%) and temp (30%)\n",
        "reviews_train, reviews_temp, labels_train, labels_temp = train_test_split(\n",
        "    reviews, labels, test_size=0.30, random_state=42)\n",
        "\n",
        "# Split temp into validation (15%) and test (15%)\n",
        "reviews_val, reviews_test, labels_val, labels_test = train_test_split(\n",
        "    reviews_temp, labels_temp, test_size=0.50, random_state=42)\n"
      ]
    },
    {
      "cell_type": "code",
      "execution_count": null,
      "metadata": {
        "id": "GY54RDFmJW7P"
      },
      "outputs": [],
      "source": [
        "vocab_size = 10000\n",
        "oov_token = '<OOV>'\n",
        "\n",
        "tokenizer = Tokenizer(num_words=vocab_size, oov_token=oov_token)\n",
        "tokenizer.fit_on_texts(reviews_train)\n",
        "\n",
        "# Convert texts to sequences\n",
        "train_sequences = tokenizer.texts_to_sequences(reviews_train)\n",
        "val_sequences = tokenizer.texts_to_sequences(reviews_val)\n",
        "test_sequences = tokenizer.texts_to_sequences(reviews_test)\n"
      ]
    },
    {
      "cell_type": "code",
      "execution_count": null,
      "metadata": {
        "id": "YY-Tn_xUJW4J"
      },
      "outputs": [],
      "source": [
        "max_length = 200\n",
        "padding_type = 'post'\n",
        "trunc_type = 'post'\n",
        "\n",
        "train_padded = pad_sequences(train_sequences, maxlen=max_length, padding=padding_type, truncating=trunc_type)\n",
        "val_padded = pad_sequences(val_sequences, maxlen=max_length, padding=padding_type, truncating=trunc_type)\n",
        "test_padded = pad_sequences(test_sequences, maxlen=max_length, padding=padding_type, truncating=trunc_type)\n"
      ]
    },
    {
      "cell_type": "code",
      "execution_count": null,
      "metadata": {
        "colab": {
          "base_uri": "https://localhost:8080/"
        },
        "id": "PqEaO7U1JWyB",
        "outputId": "5a740b70-d3c7-45fa-9ae0-69145d7452ce"
      },
      "outputs": [
        {
          "output_type": "stream",
          "name": "stderr",
          "text": [
            "/usr/local/lib/python3.10/dist-packages/keras/src/layers/core/embedding.py:90: UserWarning: Argument `input_length` is deprecated. Just remove it.\n",
            "  warnings.warn(\n"
          ]
        }
      ],
      "source": [
        "model = keras.Sequential([\n",
        "    keras.layers.Embedding(vocab_size, 128, input_length=max_length),\n",
        "    keras.layers.Bidirectional(keras.layers.LSTM(64, return_sequences=True)),\n",
        "    keras.layers.Bidirectional(keras.layers.LSTM(32)),\n",
        "    keras.layers.Dense(64, activation='relu'),\n",
        "    keras.layers.Dropout(0.5),\n",
        "    keras.layers.Dense(1, activation='sigmoid')\n",
        "])\n"
      ]
    },
    {
      "cell_type": "code",
      "execution_count": null,
      "metadata": {
        "id": "c0ZG_FbLJWmC"
      },
      "outputs": [],
      "source": [
        "model.compile(\n",
        "    loss='binary_crossentropy',\n",
        "    optimizer='adam',\n",
        "    metrics=['accuracy']\n",
        ")\n"
      ]
    },
    {
      "cell_type": "code",
      "execution_count": null,
      "metadata": {
        "id": "2NhV2EiHJi4l",
        "colab": {
          "base_uri": "https://localhost:8080/"
        },
        "outputId": "0a6d7ef0-e548-46ac-cfab-05a5882682c3"
      },
      "outputs": [
        {
          "output_type": "stream",
          "name": "stdout",
          "text": [
            "Epoch 1/10\n",
            "1094/1094 - 42s - 38ms/step - accuracy: 0.6581 - loss: 0.6153 - val_accuracy: 0.7957 - val_loss: 0.4708\n",
            "Epoch 2/10\n",
            "1094/1094 - 34s - 31ms/step - accuracy: 0.8308 - loss: 0.3990 - val_accuracy: 0.8501 - val_loss: 0.3483\n",
            "Epoch 3/10\n",
            "1094/1094 - 41s - 37ms/step - accuracy: 0.8782 - loss: 0.3061 - val_accuracy: 0.8583 - val_loss: 0.3242\n",
            "Epoch 4/10\n",
            "1094/1094 - 42s - 39ms/step - accuracy: 0.9089 - loss: 0.2408 - val_accuracy: 0.8791 - val_loss: 0.2937\n",
            "Epoch 5/10\n",
            "1094/1094 - 41s - 37ms/step - accuracy: 0.9328 - loss: 0.1875 - val_accuracy: 0.8807 - val_loss: 0.3073\n",
            "Epoch 6/10\n",
            "1094/1094 - 41s - 37ms/step - accuracy: 0.9539 - loss: 0.1395 - val_accuracy: 0.8760 - val_loss: 0.3298\n",
            "Epoch 7/10\n",
            "1094/1094 - 41s - 37ms/step - accuracy: 0.9733 - loss: 0.0924 - val_accuracy: 0.8701 - val_loss: 0.4043\n",
            "Epoch 8/10\n",
            "1094/1094 - 40s - 37ms/step - accuracy: 0.9818 - loss: 0.0640 - val_accuracy: 0.8685 - val_loss: 0.5021\n",
            "Epoch 9/10\n",
            "1094/1094 - 31s - 28ms/step - accuracy: 0.9877 - loss: 0.0465 - val_accuracy: 0.8601 - val_loss: 0.5884\n",
            "Epoch 10/10\n",
            "1094/1094 - 32s - 29ms/step - accuracy: 0.9910 - loss: 0.0339 - val_accuracy: 0.8703 - val_loss: 0.5757\n"
          ]
        }
      ],
      "source": [
        "num_epochs = 10\n",
        "\n",
        "history = model.fit(\n",
        "    train_padded, labels_train,\n",
        "    epochs=num_epochs,\n",
        "    validation_data=(val_padded, labels_val),\n",
        "    verbose=2\n",
        ")\n"
      ]
    },
    {
      "cell_type": "code",
      "execution_count": null,
      "metadata": {
        "id": "B6STIXC_Jiyt",
        "colab": {
          "base_uri": "https://localhost:8080/"
        },
        "outputId": "9ae595b0-19ff-4899-f35d-33d7d8429edf"
      },
      "outputs": [
        {
          "output_type": "stream",
          "name": "stdout",
          "text": [
            "235/235 - 2s - 11ms/step - accuracy: 0.8644 - loss: 0.5782\n",
            "Test Accuracy: 86.44%\n"
          ]
        }
      ],
      "source": [
        "# Evaluate on the test set\n",
        "loss, accuracy = model.evaluate(test_padded, labels_test, verbose=2)\n",
        "print(f'Test Accuracy: {accuracy * 100:.2f}%')\n"
      ]
    },
    {
      "cell_type": "code",
      "execution_count": null,
      "metadata": {
        "id": "hW3WW3htJiqa",
        "colab": {
          "base_uri": "https://localhost:8080/",
          "height": 843
        },
        "outputId": "ef395d26-5b65-4b7b-bf83-746ee4ac6482"
      },
      "outputs": [
        {
          "output_type": "display_data",
          "data": {
            "text/plain": [
              "<Figure size 640x480 with 1 Axes>"
            ],
            "image/png": "[encoded data removed]"
          },
          "metadata": {}
        },
        {
          "output_type": "display_data",
          "data": {
            "text/plain": [
              "<Figure size 640x480 with 1 Axes>"
            ],
            "image/png": "[encoded data removed]"
          },
          "metadata": {}
        }
      ],
      "source": [
        "import matplotlib.pyplot as plt\n",
        "\n",
        "# Accuracy plot\n",
        "plt.plot(history.history['accuracy'], label='Train Accuracy')\n",
        "plt.plot(history.history['val_accuracy'], label='Validation Accuracy')\n",
        "plt.legend()\n",
        "plt.show()\n",
        "\n",
        "# Loss plot\n",
        "plt.plot(history.history['loss'], label='Train Loss')\n",
        "plt.plot(history.history['val_loss'], label='Validation Loss')\n",
        "plt.legend()\n",
        "plt.show()\n"
      ]
    },
    {
      "cell_type": "code",
      "execution_count": null,
      "metadata": {
        "id": "ZI3ljAykM4aW",
        "colab": {
          "base_uri": "https://localhost:8080/"
        },
        "outputId": "05090afa-ae24-4af7-cfb7-ab01d04aa55f"
      },
      "outputs": [
        {
          "output_type": "stream",
          "name": "stdout",
          "text": [
            "\u001b[1m1/1\u001b[0m \u001b[32m━━━━━━━━━━━━━━━━━━━━\u001b[0m\u001b[37m\u001b[0m \u001b[1m0s\u001b[0m 282ms/step\n",
            "Sentiment Score: 0.996032178401947\n",
            "Positive Review\n"
          ]
        }
      ],
      "source": [
        "# Sample review\n",
        "new_review = [\"This movie was fantastic! I really enjoyed it.\"]\n",
        "\n",
        "# Preprocess the review\n",
        "sequence = tokenizer.texts_to_sequences(new_review)\n",
        "padded = pad_sequences(sequence, maxlen=max_length, padding=padding_type, truncating=trunc_type)\n",
        "\n",
        "# Predict sentiment\n",
        "prediction = model.predict(padded)\n",
        "print(f\"Sentiment Score: {prediction[0][0]}\")\n",
        "\n",
        "# Interpret the result\n",
        "if prediction[0][0] >= 0.5:\n",
        "    print(\"Positive Review\")\n",
        "else:\n",
        "    print(\"Negative Review\")\n"
      ]
    }
  ],
  "metadata": {
    "accelerator": "GPU",
    "colab": {
      "gpuType": "T4",
      "provenance": [],
      "authorship_tag": "ABX9TyOyLbxjVn1UGPSBYHVEfde6",
      "include_colab_link": true
    },
    "kernelspec": {
      "display_name": "Python 3",
      "name": "python3"
    },
    "language_info": {
      "name": "python"
    }
  },
  "nbformat": 4,
  "nbformat_minor": 0
}